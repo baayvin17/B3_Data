{
 "cells": [
  {
   "cell_type": "code",
   "execution_count": 3,
   "metadata": {},
   "outputs": [
    {
     "name": "stdout",
     "output_type": "stream",
     "text": [
      "Matrice normalisée (intervalle [0, 255]) :\n",
      "[[  0.          63.27067669 126.54135338 130.37593985]\n",
      " [ 84.36090226 126.54135338 149.54887218 212.81954887]\n",
      " [ 42.18045113  84.36090226 126.54135338 130.37593985]\n",
      " [ 63.27067669 105.45112782 147.63157895 168.72180451]\n",
      " [ 21.09022556  63.27067669 105.45112782 126.54135338]\n",
      " [126.54135338 149.54887218 212.81954887 255.        ]\n",
      " [ 84.36090226 126.54135338 149.54887218 212.81954887]\n",
      " [ 42.18045113  84.36090226 126.54135338 130.37593985]]\n"
     ]
    }
   ],
   "source": [
    "import numpy as np\n",
    "\n",
    "matrix = np.array([\n",
    "    [12, 45, 78, 80],\n",
    "    [56, 78, 90, 123],\n",
    "    [34, 56, 78, 80],\n",
    "    [45, 67, 89, 100],\n",
    "    [23, 45, 67, 78],\n",
    "    [78, 90, 123, 145],\n",
    "    [56, 78, 90, 123],\n",
    "    [34, 56, 78, 80]\n",
    "])\n",
    "\n",
    "matrix_min = np.min(matrix)\n",
    "matrix_max = np.max(matrix)\n",
    "\n",
    "normalized_matrix = (matrix - matrix_min) / (matrix_max - matrix_min) * 255\n",
    "\n",
    "print(\"Matrice normalisée (intervalle [0, 255]) :\")\n",
    "print(normalized_matrix)\n"
   ]
  }
 ],
 "metadata": {
  "kernelspec": {
   "display_name": "Python 3",
   "language": "python",
   "name": "python3"
  },
  "language_info": {
   "codemirror_mode": {
    "name": "ipython",
    "version": 3
   },
   "file_extension": ".py",
   "mimetype": "text/x-python",
   "name": "python",
   "nbconvert_exporter": "python",
   "pygments_lexer": "ipython3",
   "version": "3.11.6"
  }
 },
 "nbformat": 4,
 "nbformat_minor": 2
}
